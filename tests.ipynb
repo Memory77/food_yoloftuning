{
 "cells": [
  {
   "cell_type": "code",
   "execution_count": 2,
   "metadata": {},
   "outputs": [
    {
     "name": "stdout",
     "output_type": "stream",
     "text": [
      "\n",
      "image 1/1 /home/utilisateur/Bureau/food_compvision/imgs/pizza_hamburger.jpg: 448x640 1 French Fries, 81.2ms\n",
      "Speed: 8.5ms preprocess, 81.2ms inference, 472.6ms postprocess per image at shape (1, 3, 448, 640)\n",
      "Results saved to \u001b[1mruns/detect/predict\u001b[0m\n",
      "\n",
      "image 1/1 /home/utilisateur/Bureau/food_compvision/imgs/hot_dog_pizza.jpg: 480x640 1 Beef Curry, 1 French Fries, 1 Hot Dog, 90.5ms\n",
      "Speed: 4.8ms preprocess, 90.5ms inference, 1.4ms postprocess per image at shape (1, 3, 480, 640)\n",
      "Results saved to \u001b[1mruns/detect/predict\u001b[0m\n",
      "\n",
      "image 1/1 /home/utilisateur/Bureau/food_compvision/imgs/pizza.jpg: 448x640 1 Pizza, 83.4ms\n",
      "Speed: 2.6ms preprocess, 83.4ms inference, 1.1ms postprocess per image at shape (1, 3, 448, 640)\n",
      "Results saved to \u001b[1mruns/detect/predict\u001b[0m\n",
      "\n",
      "image 1/1 /home/utilisateur/Bureau/food_compvision/imgs/hamburger.jpg: 640x640 1 Hamburger, 109.3ms\n",
      "Speed: 3.0ms preprocess, 109.3ms inference, 1.1ms postprocess per image at shape (1, 3, 640, 640)\n",
      "Results saved to \u001b[1mruns/detect/predict\u001b[0m\n"
     ]
    }
   ],
   "source": [
    "from ultralytics import YOLO\n",
    "import os\n",
    "model_path = 'best.pt'\n",
    "\n",
    "model = YOLO(model_path)\n",
    "\n",
    "directory = \"imgs\"\n",
    "\n",
    "for filename in os.listdir(directory):\n",
    "    f = os.path.join(directory, filename)\n",
    "    pred = model(f, save=True)"
   ]
  }
 ],
 "metadata": {
  "kernelspec": {
   "display_name": "venv",
   "language": "python",
   "name": "python3"
  },
  "language_info": {
   "codemirror_mode": {
    "name": "ipython",
    "version": 3
   },
   "file_extension": ".py",
   "mimetype": "text/x-python",
   "name": "python",
   "nbconvert_exporter": "python",
   "pygments_lexer": "ipython3",
   "version": "3.10.12"
  }
 },
 "nbformat": 4,
 "nbformat_minor": 2
}
